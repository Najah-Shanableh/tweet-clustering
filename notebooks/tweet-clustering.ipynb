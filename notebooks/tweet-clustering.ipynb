{
 "cells": [
  {
   "cell_type": "code",
   "execution_count": 1,
   "metadata": {
    "collapsed": true
   },
   "outputs": [],
   "source": [
    "import os\n",
    "import time\n",
    "import pandas as pd\n",
    "import numpy as np\n",
    "import datashader as ds\n",
    "import datashader.transfer_functions as tf\n",
    "from sklearn.cluster import KMeans, DBSCAN\n",
    "import multiprocessing"
   ]
  },
  {
   "cell_type": "code",
   "execution_count": 2,
   "metadata": {
    "collapsed": false
   },
   "outputs": [],
   "source": [
    "# Navigate to data folder and get file\n",
    "project = os.path.realpath('./..')\n",
    "datadir = os.path.join(project, 'data')\n",
    "datafile = os.path.join(datadir, 'tweets_1M.json')"
   ]
  },
  {
   "cell_type": "code",
   "execution_count": 3,
   "metadata": {
    "collapsed": false
   },
   "outputs": [],
   "source": [
    "## Save as HDF5 file for speed of access\n",
    "\n",
    "# h5file = os.path.join(datadir, 'tweets_1M.h5')\n",
    "# tweets = pd.read_json(datafile)\n",
    "# tweets.to_hdf(h5file, 'tweets', mode='w')"
   ]
  },
  {
   "cell_type": "code",
   "execution_count": 4,
   "metadata": {
    "collapsed": true
   },
   "outputs": [],
   "source": [
    "# Load from HDF5 file\n",
    "\n",
    "with pd.HDFStore(os.path.join(datadir, 'tweets_1M.h5')) as store:\n",
    "    tweets = store.tweets"
   ]
  },
  {
   "cell_type": "code",
   "execution_count": 5,
   "metadata": {
    "collapsed": false
   },
   "outputs": [
    {
     "data": {
      "text/html": [
       "<div>\n",
       "<table border=\"1\" class=\"dataframe\">\n",
       "  <thead>\n",
       "    <tr style=\"text-align: right;\">\n",
       "      <th></th>\n",
       "      <th>id</th>\n",
       "      <th>lat</th>\n",
       "      <th>lng</th>\n",
       "      <th>text</th>\n",
       "      <th>timeStamp</th>\n",
       "      <th>user_id</th>\n",
       "    </tr>\n",
       "  </thead>\n",
       "  <tbody>\n",
       "    <tr>\n",
       "      <th>0</th>\n",
       "      <td>377652254096228352</td>\n",
       "      <td>37.446100</td>\n",
       "      <td>-121.883557</td>\n",
       "      <td>@Tanner_Cortez hey checkout the website: http:...</td>\n",
       "      <td>2013-09-11 04:38:08</td>\n",
       "      <td>224874450</td>\n",
       "    </tr>\n",
       "    <tr>\n",
       "      <th>1</th>\n",
       "      <td>377652255346159616</td>\n",
       "      <td>34.087406</td>\n",
       "      <td>-117.462604</td>\n",
       "      <td>@Lennayy7 😪</td>\n",
       "      <td>2013-09-11 04:38:08</td>\n",
       "      <td>312179473</td>\n",
       "    </tr>\n",
       "    <tr>\n",
       "      <th>2</th>\n",
       "      <td>377652262325456897</td>\n",
       "      <td>37.356131</td>\n",
       "      <td>-121.842867</td>\n",
       "      <td>i laugh a lot with that line</td>\n",
       "      <td>2013-09-11 04:38:10</td>\n",
       "      <td>54351774</td>\n",
       "    </tr>\n",
       "    <tr>\n",
       "      <th>3</th>\n",
       "      <td>377652264682655744</td>\n",
       "      <td>37.364664</td>\n",
       "      <td>-122.009629</td>\n",
       "      <td>sons of anarchy is back on woop woop</td>\n",
       "      <td>2013-09-11 04:38:11</td>\n",
       "      <td>343219606</td>\n",
       "    </tr>\n",
       "    <tr>\n",
       "      <th>4</th>\n",
       "      <td>377652271116722176</td>\n",
       "      <td>37.382600</td>\n",
       "      <td>-121.995000</td>\n",
       "      <td>Drinking a Fresh Squeezed IPA by @deschutesbee...</td>\n",
       "      <td>2013-09-11 04:38:12</td>\n",
       "      <td>1569395935</td>\n",
       "    </tr>\n",
       "  </tbody>\n",
       "</table>\n",
       "</div>"
      ],
      "text/plain": [
       "                   id        lat         lng  \\\n",
       "0  377652254096228352  37.446100 -121.883557   \n",
       "1  377652255346159616  34.087406 -117.462604   \n",
       "2  377652262325456897  37.356131 -121.842867   \n",
       "3  377652264682655744  37.364664 -122.009629   \n",
       "4  377652271116722176  37.382600 -121.995000   \n",
       "\n",
       "                                                text           timeStamp  \\\n",
       "0  @Tanner_Cortez hey checkout the website: http:... 2013-09-11 04:38:08   \n",
       "1                                        @Lennayy7 😪 2013-09-11 04:38:08   \n",
       "2                       i laugh a lot with that line 2013-09-11 04:38:10   \n",
       "3               sons of anarchy is back on woop woop 2013-09-11 04:38:11   \n",
       "4  Drinking a Fresh Squeezed IPA by @deschutesbee... 2013-09-11 04:38:12   \n",
       "\n",
       "      user_id  \n",
       "0   224874450  \n",
       "1   312179473  \n",
       "2    54351774  \n",
       "3   343219606  \n",
       "4  1569395935  "
      ]
     },
     "execution_count": 5,
     "metadata": {},
     "output_type": "execute_result"
    }
   ],
   "source": [
    "tweets.head()"
   ]
  },
  {
   "cell_type": "code",
   "execution_count": 6,
   "metadata": {
    "collapsed": true
   },
   "outputs": [],
   "source": [
    "# Constrain to Bay Area\n",
    "\n",
    "tweets = tweets.loc[\n",
    "    (tweets.lat > 36.903929764) &\n",
    "    (tweets.lat < 38.853939589) &\n",
    "    (tweets.lng > -123.528897483) &\n",
    "    (tweets.lng < -121.213352822)\n",
    "]"
   ]
  },
  {
   "cell_type": "code",
   "execution_count": 7,
   "metadata": {
    "collapsed": true
   },
   "outputs": [],
   "source": [
    "# Subset to 100,000 records randomly\n",
    "subset = tweets.sample(n=100000)\n",
    "\n",
    "# Convert the lat and lng columns to numpy array\n",
    "data = subset.as_matrix(columns=['lat', 'lng'])"
   ]
  },
  {
   "cell_type": "code",
   "execution_count": 8,
   "metadata": {
    "collapsed": false
   },
   "outputs": [
    {
     "data": {
      "image/png": "[encoded data removed]",
      "text/plain": [
       "<xarray.Image (y_axis: 300, x_axis: 300)>\n",
       "array([[0, 0, 0, ..., 0, 0, 0],\n",
       "       [0, 0, 0, ..., 0, 0, 0],\n",
       "       [0, 0, 0, ..., 0, 0, 0],\n",
       "       ..., \n",
       "       [0, 0, 0, ..., 0, 0, 0],\n",
       "       [0, 0, 0, ..., 0, 0, 0],\n",
       "       [0, 0, 0, ..., 0, 0, 0]], dtype=uint32)\n",
       "Coordinates:\n",
       "  * y_axis   (y_axis) float64 36.9 36.91 36.92 36.92 36.93 36.94 36.94 36.95 ...\n",
       "  * x_axis   (x_axis) float64 -123.0 -123.0 -123.0 -123.0 -123.0 -123.0 ..."
      ]
     },
     "execution_count": 8,
     "metadata": {},
     "output_type": "execute_result"
    }
   ],
   "source": [
    "# Visualize points with datashader\n",
    "\n",
    "cvs = ds.Canvas(plot_width=300, plot_height=300)\n",
    "agg = cvs.points(subset, 'lng', 'lat')\n",
    "tf.interpolate(agg)"
   ]
  },
  {
   "cell_type": "code",
   "execution_count": 9,
   "metadata": {
    "collapsed": true
   },
   "outputs": [],
   "source": [
    "# Prepare the k-means model object\n",
    "\n",
    "k_means = KMeans(n_clusters=3,\n",
    "                 init='k-means++',\n",
    "                 n_init=10)"
   ]
  },
  {
   "cell_type": "code",
   "execution_count": 10,
   "metadata": {
    "collapsed": false
   },
   "outputs": [
    {
     "name": "stdout",
     "output_type": "stream",
     "text": [
      "0.746048927307\n"
     ]
    }
   ],
   "source": [
    "# Start timer\n",
    "t0 = time.time()\n",
    "\n",
    "# Fit the data and save timing\n",
    "k_means.fit(data)\n",
    "k_means_time = time.time() - t0\n",
    "print k_means_time\n",
    "\n",
    "# Add fitted label back into DataFrame\n",
    "subset['cluster'] = k_means.labels_"
   ]
  },
  {
   "cell_type": "code",
   "execution_count": 11,
   "metadata": {
    "collapsed": false
   },
   "outputs": [
    {
     "data": {
      "image/png": "[encoded data removed]",
      "text/plain": [
       "<xarray.Image (y_axis: 400, x_axis: 400)>\n",
       "array([[0, 0, 0, ..., 0, 0, 0],\n",
       "       [0, 0, 0, ..., 0, 0, 0],\n",
       "       [0, 0, 0, ..., 0, 0, 0],\n",
       "       ..., \n",
       "       [0, 0, 0, ..., 0, 0, 0],\n",
       "       [0, 0, 0, ..., 0, 0, 0],\n",
       "       [0, 0, 0, ..., 0, 0, 0]], dtype=uint32)\n",
       "Coordinates:\n",
       "  * y_axis   (y_axis) float64 36.9 36.91 36.91 36.92 36.92 36.93 36.93 36.94 ...\n",
       "  * x_axis   (x_axis) float64 -123.0 -123.0 -123.0 -123.0 -123.0 -123.0 ..."
      ]
     },
     "execution_count": 11,
     "metadata": {},
     "output_type": "execute_result"
    }
   ],
   "source": [
    "# Visualize points with datashader\n",
    "cvs = ds.Canvas(plot_width=400, plot_height=400)\n",
    "agg = cvs.points(subset, 'lng', 'lat', ds.mean('cluster'))\n",
    "tf.interpolate(agg, cmap=['red', 'blue'])"
   ]
  },
  {
   "cell_type": "code",
   "execution_count": 22,
   "metadata": {
    "collapsed": false
   },
   "outputs": [
    {
     "name": "stdout",
     "output_type": "stream",
     "text": [
      "1 0.079528093338\n",
      "2 0.412147045135\n",
      "3 0.58783698082\n",
      "running... let's kill it...\n"
     ]
    }
   ],
   "source": [
    "# Test timing\n",
    "\n",
    "timing = {}\n",
    "\n",
    "def kmean_fit_timing(data, n):\n",
    "    \n",
    "\n",
    "    \n",
    "    k_means = KMeans(n_clusters=n,\n",
    "                 init='k-means++',\n",
    "                 n_init=10)\n",
    "    t0 = time.time()\n",
    "    k_means.fit(data)\n",
    "    t1 = time.time() - t0\n",
    "\n",
    "    with open('timing.csv', mode='a') as timing:\n",
    "        timing.write('{},'.format(t1))\n",
    "    \n",
    "    print n, t1\n",
    "    return t1\n",
    "\n",
    "for n in range(1, 10):\n",
    "    # Start bar as a process\n",
    "    p = multiprocessing.Process(target=kmean_fit_timing, args=(data, n))\n",
    "    p.start()\n",
    "\n",
    "    # Wait for 10 seconds or until process finishes\n",
    "    p.join(1)\n",
    "\n",
    "    # If thread is still active\n",
    "    if p.is_alive():\n",
    "        print \"running... let's kill it...\"\n",
    "\n",
    "        # Terminate\n",
    "        p.terminate()\n",
    "        p.join()   \n",
    "        break"
   ]
  },
  {
   "cell_type": "code",
   "execution_count": null,
   "metadata": {
    "collapsed": false
   },
   "outputs": [],
   "source": [
    "n = 60\n",
    "\n",
    "k_means = KMeans(n_clusters=n,\n",
    "             init='k-means++',\n",
    "             n_init=10)\n",
    "t0 = time.time()\n",
    "k_means.fit(data)\n",
    "print time.time() - t0"
   ]
  },
  {
   "cell_type": "code",
   "execution_count": null,
   "metadata": {
    "collapsed": false
   },
   "outputs": [],
   "source": [
    "n = 100\n",
    "\n",
    "k_means = KMeans(n_clusters=n,\n",
    "             init='k-means++',\n",
    "             n_init=10)\n",
    "t0 = time.time()\n",
    "k_means.fit(data)\n",
    "print time.time() - t0"
   ]
  },
  {
   "cell_type": "code",
   "execution_count": null,
   "metadata": {
    "collapsed": true
   },
   "outputs": [],
   "source": [
    "\n",
    "import time\n",
    "\n",
    "# bar\n",
    "def bar():\n",
    "    for i in range(100):\n",
    "        print \"Tick\"\n",
    "        time.sleep(1)\n",
    "\n",
    "if __name__ == '__main__':\n",
    "    # Start bar as a process\n",
    "    p = multiprocessing.Process(target=bar)\n",
    "    p.start()\n",
    "\n",
    "    # Wait for 10 seconds or until process finishes\n",
    "    p.join(10)\n",
    "\n",
    "    # If thread is still active\n",
    "    if p.is_alive():\n",
    "        print \"running... let's kill it...\"\n",
    "\n",
    "        # Terminate\n",
    "        p.terminate()\n",
    "        p.join()"
   ]
  }
 ],
 "metadata": {
  "kernelspec": {
   "display_name": "Python 2",
   "language": "python",
   "name": "python2"
  },
  "language_info": {
   "codemirror_mode": {
    "name": "ipython",
    "version": 2
   },
   "file_extension": ".py",
   "mimetype": "text/x-python",
   "name": "python",
   "nbconvert_exporter": "python",
   "pygments_lexer": "ipython2",
   "version": "2.7.12"
  }
 },
 "nbformat": 4,
 "nbformat_minor": 0
}
