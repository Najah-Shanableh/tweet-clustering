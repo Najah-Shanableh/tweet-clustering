{
 "cells": [
  {
   "cell_type": "code",
   "execution_count": 12,
   "metadata": {
    "collapsed": true
   },
   "outputs": [],
   "source": [
    "% matplotlib inline\n",
    "import pandas as pd\n",
    "import numpy as np\n",
    "import matplotlib.pyplot as plt\n",
    "import os"
   ]
  },
  {
   "cell_type": "code",
   "execution_count": 13,
   "metadata": {
    "collapsed": false
   },
   "outputs": [],
   "source": [
    "# Load from HDF5 file\n",
    "\n",
    "project = os.path.realpath('./..')\n",
    "baseline = os.path.join(project, 'baseline')"
   ]
  },
  {
   "cell_type": "code",
   "execution_count": 14,
   "metadata": {
    "collapsed": false
   },
   "outputs": [
    {
     "data": {
      "text/plain": [
       "['minibatch_by50_batchsize10.csv',\n",
       " 'baseline.py',\n",
       " 'minibatch_by50_batchsize50.csv',\n",
       " '.idea',\n",
       " 'minibatch_by50_batchsize5.csv',\n",
       " 'minibatch_by50_batchsize100.csv',\n",
       " 'timers.py',\n",
       " 'minibatch_by50_batchsize20.csv',\n",
       " 'dbscan_from0.1_to2.0_by0.1.csv',\n",
       " '__init__.py',\n",
       " 'timers.pyc',\n",
       " 'kmeans_by5.csv']"
      ]
     },
     "execution_count": 14,
     "metadata": {},
     "output_type": "execute_result"
    }
   ],
   "source": [
    "os.listdir(baseline)"
   ]
  },
  {
   "cell_type": "code",
   "execution_count": 15,
   "metadata": {
    "collapsed": true
   },
   "outputs": [],
   "source": [
    "kmeans = pd.read_csv(os.path.join(baseline, 'kmeans_by5.csv'))"
   ]
  },
  {
   "cell_type": "code",
   "execution_count": 41,
   "metadata": {
    "collapsed": false
   },
   "outputs": [
    {
     "data": {
      "image/png": "[encoded data removed]",
      "text/plain": [
       "<matplotlib.figure.Figure at 0x7faa48c27110>"
      ]
     },
     "metadata": {},
     "output_type": "display_data"
    }
   ],
   "source": [
    "plt.figure(figsize=[10,5])\n",
    "\n",
    "# Plot scatter points\n",
    "plt.scatter(x=kmeans.clusters, y=kmeans.seconds, alpha=0.7)\n",
    "\n",
    "# Add line of best fit\n",
    "bestfit = np.poly1d(np.polyfit(kmeans.clusters, kmeans.seconds, 1))(kmeans.clusters)\n",
    "plt.plot(kmeans.clusters, bestfit, color='blue', alpha=0.7)\n",
    "\n",
    "# Labels and other parameters\n",
    "plt.axis(xmin=0, ymin=0)\n",
    "plt.xlabel('Number of Clusters')\n",
    "plt.ylabel('Time (Seconds)')\n",
    "plt.title('K-means processing time, by number of clusters')\n",
    "plt.show()"
   ]
  },
  {
   "cell_type": "code",
   "execution_count": 45,
   "metadata": {
    "collapsed": false
   },
   "outputs": [
    {
     "name": "stdout",
     "output_type": "stream",
     "text": [
      "0.18102372771\n"
     ]
    }
   ],
   "source": [
    "slope = np.polyfit(kmeans.clusters, kmeans.seconds, 1)[0]\n",
    "print slope"
   ]
  },
  {
   "cell_type": "code",
   "execution_count": null,
   "metadata": {
    "collapsed": true
   },
   "outputs": [],
   "source": []
  }
 ],
 "metadata": {
  "kernelspec": {
   "display_name": "Python 2",
   "language": "python",
   "name": "python2"
  },
  "language_info": {
   "codemirror_mode": {
    "name": "ipython",
    "version": 2
   },
   "file_extension": ".py",
   "mimetype": "text/x-python",
   "name": "python",
   "nbconvert_exporter": "python",
   "pygments_lexer": "ipython2",
   "version": "2.7.12"
  }
 },
 "nbformat": 4,
 "nbformat_minor": 0
}
