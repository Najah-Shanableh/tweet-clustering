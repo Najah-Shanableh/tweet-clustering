{
 "cells": [
  {
   "cell_type": "code",
   "execution_count": 66,
   "metadata": {
    "collapsed": false
   },
   "outputs": [],
   "source": [
    "% matplotlib inline\n",
    "import pandas as pd\n",
    "import os\n",
    "import datashader as ds\n",
    "import datashader.transfer_functions as tf\n",
    "import folium"
   ]
  },
  {
   "cell_type": "code",
   "execution_count": 58,
   "metadata": {
    "collapsed": true
   },
   "outputs": [],
   "source": [
    "# Load from HDF5 file\n",
    "\n",
    "project = os.path.realpath('./..')\n",
    "datadir = os.path.join(project, 'data')\n",
    "\n",
    "with pd.HDFStore(os.path.join(datadir, 'results.h5')) as store:\n",
    "    results = store.results"
   ]
  },
  {
   "cell_type": "code",
   "execution_count": 3,
   "metadata": {
    "collapsed": false
   },
   "outputs": [
    {
     "data": {
      "text/html": [
       "<div>\n",
       "<table border=\"1\" class=\"dataframe\">\n",
       "  <thead>\n",
       "    <tr style=\"text-align: right;\">\n",
       "      <th></th>\n",
       "      <th>lat</th>\n",
       "      <th>lng</th>\n",
       "      <th>text</th>\n",
       "      <th>timeStamp</th>\n",
       "      <th>user_id</th>\n",
       "      <th>mb_cluster</th>\n",
       "      <th>db_cluster</th>\n",
       "      <th>cluster</th>\n",
       "    </tr>\n",
       "    <tr>\n",
       "      <th>id</th>\n",
       "      <th></th>\n",
       "      <th></th>\n",
       "      <th></th>\n",
       "      <th></th>\n",
       "      <th></th>\n",
       "      <th></th>\n",
       "      <th></th>\n",
       "      <th></th>\n",
       "    </tr>\n",
       "  </thead>\n",
       "  <tbody>\n",
       "    <tr>\n",
       "      <th>377652254096228352</th>\n",
       "      <td>37.446100</td>\n",
       "      <td>-121.883557</td>\n",
       "      <td>@Tanner_Cortez hey checkout the website: http:...</td>\n",
       "      <td>2013-09-11 04:38:08</td>\n",
       "      <td>224874450</td>\n",
       "      <td>33</td>\n",
       "      <td>-1.0</td>\n",
       "      <td>NaN</td>\n",
       "    </tr>\n",
       "    <tr>\n",
       "      <th>377652262325456897</th>\n",
       "      <td>37.356131</td>\n",
       "      <td>-121.842867</td>\n",
       "      <td>i laugh a lot with that line</td>\n",
       "      <td>2013-09-11 04:38:10</td>\n",
       "      <td>54351774</td>\n",
       "      <td>22</td>\n",
       "      <td>-1.0</td>\n",
       "      <td>NaN</td>\n",
       "    </tr>\n",
       "    <tr>\n",
       "      <th>377652264682655744</th>\n",
       "      <td>37.364664</td>\n",
       "      <td>-122.009629</td>\n",
       "      <td>sons of anarchy is back on woop woop</td>\n",
       "      <td>2013-09-11 04:38:11</td>\n",
       "      <td>343219606</td>\n",
       "      <td>21</td>\n",
       "      <td>-1.0</td>\n",
       "      <td>NaN</td>\n",
       "    </tr>\n",
       "    <tr>\n",
       "      <th>377652271116722176</th>\n",
       "      <td>37.382600</td>\n",
       "      <td>-121.995000</td>\n",
       "      <td>Drinking a Fresh Squeezed IPA by @deschutesbee...</td>\n",
       "      <td>2013-09-11 04:38:12</td>\n",
       "      <td>1569395935</td>\n",
       "      <td>21</td>\n",
       "      <td>-1.0</td>\n",
       "      <td>NaN</td>\n",
       "    </tr>\n",
       "    <tr>\n",
       "      <th>377652275147444224</th>\n",
       "      <td>37.756149</td>\n",
       "      <td>-122.152813</td>\n",
       "      <td>I have 8 am classes this quarter ... I need to...</td>\n",
       "      <td>2013-09-11 04:38:13</td>\n",
       "      <td>399164195</td>\n",
       "      <td>84</td>\n",
       "      <td>0.0</td>\n",
       "      <td>84.0</td>\n",
       "    </tr>\n",
       "  </tbody>\n",
       "</table>\n",
       "</div>"
      ],
      "text/plain": [
       "                          lat         lng  \\\n",
       "id                                          \n",
       "377652254096228352  37.446100 -121.883557   \n",
       "377652262325456897  37.356131 -121.842867   \n",
       "377652264682655744  37.364664 -122.009629   \n",
       "377652271116722176  37.382600 -121.995000   \n",
       "377652275147444224  37.756149 -122.152813   \n",
       "\n",
       "                                                                 text  \\\n",
       "id                                                                      \n",
       "377652254096228352  @Tanner_Cortez hey checkout the website: http:...   \n",
       "377652262325456897                       i laugh a lot with that line   \n",
       "377652264682655744               sons of anarchy is back on woop woop   \n",
       "377652271116722176  Drinking a Fresh Squeezed IPA by @deschutesbee...   \n",
       "377652275147444224  I have 8 am classes this quarter ... I need to...   \n",
       "\n",
       "                             timeStamp     user_id  mb_cluster  db_cluster  \\\n",
       "id                                                                           \n",
       "377652254096228352 2013-09-11 04:38:08   224874450          33        -1.0   \n",
       "377652262325456897 2013-09-11 04:38:10    54351774          22        -1.0   \n",
       "377652264682655744 2013-09-11 04:38:11   343219606          21        -1.0   \n",
       "377652271116722176 2013-09-11 04:38:12  1569395935          21        -1.0   \n",
       "377652275147444224 2013-09-11 04:38:13   399164195          84         0.0   \n",
       "\n",
       "                    cluster  \n",
       "id                           \n",
       "377652254096228352      NaN  \n",
       "377652262325456897      NaN  \n",
       "377652264682655744      NaN  \n",
       "377652271116722176      NaN  \n",
       "377652275147444224     84.0  "
      ]
     },
     "execution_count": 3,
     "metadata": {},
     "output_type": "execute_result"
    }
   ],
   "source": [
    "results.head()"
   ]
  },
  {
   "cell_type": "code",
   "execution_count": 8,
   "metadata": {
    "collapsed": false
   },
   "outputs": [
    {
     "data": {
      "image/png": "[encoded data removed]",
      "text/plain": [
       "<xarray.Image (y_axis: 400, x_axis: 400)>\n",
       "array([[0, 0, 0, ..., 0, 0, 0],\n",
       "       [0, 0, 0, ..., 0, 0, 0],\n",
       "       [0, 0, 0, ..., 0, 0, 0],\n",
       "       ..., \n",
       "       [0, 0, 0, ..., 0, 0, 0],\n",
       "       [0, 0, 0, ..., 0, 0, 0],\n",
       "       [0, 0, 0, ..., 0, 0, 0]], dtype=uint32)\n",
       "Coordinates:\n",
       "  * y_axis   (y_axis) float64 36.9 36.91 36.91 36.92 36.92 36.93 36.93 36.94 ...\n",
       "  * x_axis   (x_axis) float64 -123.0 -123.0 -123.0 -123.0 -123.0 -123.0 ..."
      ]
     },
     "execution_count": 8,
     "metadata": {},
     "output_type": "execute_result"
    }
   ],
   "source": [
    "# Visualize points with datashader\n",
    "cvs = ds.Canvas(plot_width=400, plot_height=400)\n",
    "agg = cvs.points(results, 'lng', 'lat', ds.mean('cluster'))\n",
    "tf.interpolate(agg, cmap=['blue', 'red'])"
   ]
  },
  {
   "cell_type": "code",
   "execution_count": 40,
   "metadata": {
    "collapsed": false
   },
   "outputs": [],
   "source": [
    "df = results[results['text'].str.contains(\"Berkeley\")]"
   ]
  },
  {
   "cell_type": "code",
   "execution_count": 107,
   "metadata": {
    "collapsed": false
   },
   "outputs": [
    {
     "data": {
      "text/plain": [
       "3.03     288\n",
       "3.04     286\n",
       "3.08     172\n",
       "49.00     34\n",
       "3.16      23\n",
       "3.18      14\n",
       "3.09      13\n",
       "3.06      12\n",
       "6.00       9\n",
       "50.01      7\n",
       "Name: cluster, dtype: int64"
      ]
     },
     "execution_count": 107,
     "metadata": {},
     "output_type": "execute_result"
    }
   ],
   "source": [
    "df.cluster.value_counts().head(10)"
   ]
  },
  {
   "cell_type": "code",
   "execution_count": 101,
   "metadata": {
    "collapsed": false
   },
   "outputs": [
    {
     "name": "stdout",
     "output_type": "stream",
     "text": [
      "4609\n"
     ]
    }
   ],
   "source": [
    "berkeley = results[results.cluster == 3.04]\n",
    "print len(berkeley)"
   ]
  },
  {
   "cell_type": "code",
   "execution_count": 108,
   "metadata": {
    "collapsed": false
   },
   "outputs": [],
   "source": [
    "map_data = folium.Map(location=[37.792895, -122.409800])\n",
    "\n",
    "for index, series in berkeley.head(500).iterrows():\n",
    "    folium.Marker([series['lat'], series['lng']]).add_to(map_data)\n",
    "    \n",
    "map_data.save('map.html')"
   ]
  },
  {
   "cell_type": "code",
   "execution_count": 109,
   "metadata": {
    "collapsed": false
   },
   "outputs": [
    {
     "data": {
      "text/html": [
       "<iframe width=\"100%\" height=\"500\" src=\"map.html\"></iframe>"
      ],
      "text/plain": [
       "<IPython.core.display.HTML object>"
      ]
     },
     "metadata": {},
     "output_type": "display_data"
    }
   ],
   "source": [
    "%%HTML\n",
    "<iframe width=\"100%\" height=\"500\" src=\"map.html\"></iframe>"
   ]
  },
  {
   "cell_type": "code",
   "execution_count": null,
   "metadata": {
    "collapsed": true
   },
   "outputs": [],
   "source": []
  }
 ],
 "metadata": {
  "kernelspec": {
   "display_name": "Python 2",
   "language": "python",
   "name": "python2"
  },
  "language_info": {
   "codemirror_mode": {
    "name": "ipython",
    "version": 2
   },
   "file_extension": ".py",
   "mimetype": "text/x-python",
   "name": "python",
   "nbconvert_exporter": "python",
   "pygments_lexer": "ipython2",
   "version": "2.7.12"
  }
 },
 "nbformat": 4,
 "nbformat_minor": 0
}
